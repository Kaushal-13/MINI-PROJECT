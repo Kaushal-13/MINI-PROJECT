{
  "nbformat": 4,
  "nbformat_minor": 0,
  "metadata": {
    "colab": {
      "name": "MINI PROJECT.ipynb",
      "provenance": [],
      "collapsed_sections": [],
      "authorship_tag": "ABX9TyOQWKAhh06g6LR6coF0mKwI",
      "include_colab_link": true
    },
    "kernelspec": {
      "name": "python3",
      "display_name": "Python 3"
    },
    "language_info": {
      "name": "python"
    }
  },
  "cells": [
    {
      "cell_type": "markdown",
      "metadata": {
        "id": "view-in-github",
        "colab_type": "text"
      },
      "source": [
        "<a href=\"https://colab.research.google.com/github/Kaushal-13/MINI-PROJECT/blob/main/MINI_PROJECT.ipynb\" target=\"_parent\"><img src=\"https://colab.research.google.com/assets/colab-badge.svg\" alt=\"Open In Colab\"/></a>"
      ]
    },
    {
      "cell_type": "code",
      "metadata": {
        "id": "bG84kYKn7uVF"
      },
      "source": [
        "#Here we need Images to classify them into groups\n",
        "#I have manually downloaded ct scans of various patients in order to test the covid cases"
      ],
      "execution_count": null,
      "outputs": []
    },
    {
      "cell_type": "code",
      "metadata": {
        "id": "dasqV912TyAU"
      },
      "source": [
        "!mkdir images\n",
        "# AFTER THE DIRECTORY IS MADE PLEASE UPLOAD THE TWO GIVEN FOLDERS WITH NAME \"COVID+\" AND \"COVID-\""
      ],
      "execution_count": null,
      "outputs": []
    },
    {
      "cell_type": "code",
      "metadata": {
        "id": "qUlqIHh_TrXR"
      },
      "source": [
        "a='COVID+'\n",
        "b='COVID-'"
      ],
      "execution_count": null,
      "outputs": []
    },
    {
      "cell_type": "code",
      "metadata": {
        "id": "Mi1BP4yC_h68"
      },
      "source": [
        "import os\n",
        "import numpy as np\n",
        "import pandas as pd\n",
        "import matplotlib.pyplot as plt\n",
        "from skimage.io import imread\n",
        "from skimage.transform import resize\n",
        "\n",
        "datadir = '/content/images'\n",
        "\n",
        "categories = [a,b] # Name the folder with these categories\n",
        "target = []\n",
        "flat_data = []\n",
        "\n",
        "for i in categories:\n",
        "  path = os.path.join(datadir,i)\n",
        "  #print(path)\n",
        "  for img in os.listdir(path):\n",
        "    #print(img)\n",
        "    img_array = imread(os.path.join(path,img))\n",
        "\n",
        "    img_resize = resize(img_array,(150,150,3)) # Value gets converted 0-1 from 0-255\n",
        "    flat_data.append(np.ndarray.flatten(img_resize))\n",
        "    target.append(i)\n",
        "    #plt.imshow(img_resize)\n",
        "    #plt.show()"
      ],
      "execution_count": null,
      "outputs": []
    },
    {
      "cell_type": "code",
      "metadata": {
        "id": "1C0MGKsjToU6"
      },
      "source": [
        ""
      ],
      "execution_count": null,
      "outputs": []
    },
    {
      "cell_type": "code",
      "metadata": {
        "id": "NY5fSIYL13CJ"
      },
      "source": [
        ""
      ],
      "execution_count": null,
      "outputs": []
    },
    {
      "cell_type": "code",
      "metadata": {
        "id": "d__JKFVbYXH4"
      },
      "source": [
        "from sklearn.model_selection import train_test_split\n",
        "x_train,x_test,y_train,y_test=train_test_split(flat_data,target,test_size=0.3,random_state=109)"
      ],
      "execution_count": null,
      "outputs": []
    },
    {
      "cell_type": "code",
      "metadata": {
        "id": "igey_rATbw1L"
      },
      "source": [
        "from sklearn.model_selection import GridSearchCV\n",
        "from sklearn import svm\n",
        "param_grid=[\n",
        "            {'C':[1,10,100,1000],'kernel':['linear']},\n",
        "            {'C':[1,10,100,1000],'gamma':[0.001,0.0001],'kernel':['rbf']},\n",
        "]\n",
        "\n",
        "svc=svm.SVC(probability=True)\n",
        "clf=GridSearchCV(svc,param_grid)\n",
        "clf.fit(x_train,y_train)"
      ],
      "execution_count": null,
      "outputs": []
    },
    {
      "cell_type": "code",
      "metadata": {
        "id": "z4dDzlTH4DUw"
      },
      "source": [
        "y_pred=clf.predict(x_test)\n",
        "y_pred"
      ],
      "execution_count": null,
      "outputs": []
    },
    {
      "cell_type": "code",
      "metadata": {
        "id": "5t7k0Xer6yAj"
      },
      "source": [
        "y_test"
      ],
      "execution_count": null,
      "outputs": []
    },
    {
      "cell_type": "code",
      "metadata": {
        "id": "ZuU-ya_d61Bb"
      },
      "source": [
        "from sklearn.metrics import accuracy_score,confusion_matrix"
      ],
      "execution_count": null,
      "outputs": []
    },
    {
      "cell_type": "code",
      "metadata": {
        "id": "2JkdeQzP7AB1"
      },
      "source": [
        "accuracy_score(y_pred,y_test)"
      ],
      "execution_count": null,
      "outputs": []
    },
    {
      "cell_type": "code",
      "metadata": {
        "id": "4ek1Ocob7IXb"
      },
      "source": [
        "confusion_matrix(y_pred,y_test)"
      ],
      "execution_count": null,
      "outputs": []
    },
    {
      "cell_type": "code",
      "metadata": {
        "id": "a8gFSYSS-BXY"
      },
      "source": [
        ""
      ],
      "execution_count": null,
      "outputs": []
    }
  ]
}